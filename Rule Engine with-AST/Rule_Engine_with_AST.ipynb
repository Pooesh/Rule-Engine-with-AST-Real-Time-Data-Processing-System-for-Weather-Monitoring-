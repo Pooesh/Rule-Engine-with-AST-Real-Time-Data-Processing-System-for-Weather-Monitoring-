{
  "nbformat": 4,
  "nbformat_minor": 0,
  "metadata": {
    "colab": {
      "provenance": []
    },
    "kernelspec": {
      "name": "python3",
      "display_name": "Python 3"
    },
    "language_info": {
      "name": "python"
    }
  },
  "cells": [
    {
      "cell_type": "code",
      "source": [
        "import re\n",
        "\n",
        "class Node:\n",
        "    def __init__(self, node_type, value=None, left=None, right=None):\n",
        "        self.node_type = node_type  # \"operator\" or \"operand\"\n",
        "        self.value = value          # For operands, it could be conditions like \"age > 30\"\n",
        "        self.left = left            # Left child for operators\n",
        "        self.right = right          # Right child for operators\n",
        "\n",
        "    def __repr__(self):\n",
        "        if self.node_type == \"operand\":\n",
        "            return f\"{self.value}\"\n",
        "        else:\n",
        "            return f\"({self.left} {self.value} {self.right})\"\n",
        "\n",
        "def create_rule(rule_string):\n",
        "    # Tokenize the rule string into meaningful components (numbers, operators, and keywords)\n",
        "    tokens = re.findall(r\"\\(|\\)|\\w+|>=|<=|>|<|==|!=|AND|OR|\\'[\\w\\s]+\\'\", rule_string)\n",
        "    return build_ast(tokens)\n",
        "\n",
        "def build_ast(tokens):\n",
        "    stack = []\n",
        "    operators = []\n",
        "\n",
        "    def apply_operator():\n",
        "        right = stack.pop()\n",
        "        left = stack.pop()\n",
        "        operator = operators.pop()\n",
        "        stack.append(Node(node_type=\"operator\", value=operator, left=left, right=right))\n",
        "\n",
        "    precedence = {\"OR\": 1, \"AND\": 2, \">\": 3, \"<\": 3, \">=\": 3, \"<=\": 3, \"==\": 3, \"!=\": 3}\n",
        "\n",
        "    for token in tokens:\n",
        "        if token.isnumeric() or re.match(r\"'[\\w\\s]+'\", token) or re.match(r\"[a-zA-Z_]+\", token):\n",
        "            stack.append(Node(node_type=\"operand\", value=token))\n",
        "        elif token in precedence:\n",
        "            while operators and operators[-1] != '(' and precedence[operators[-1]] >= precedence[token]:\n",
        "                apply_operator()\n",
        "            operators.append(token)\n",
        "        elif token == '(':\n",
        "            operators.append(token)\n",
        "        elif token == ')':\n",
        "            while operators[-1] != '(':\n",
        "                apply_operator()\n",
        "            operators.pop()  # pop '('\n",
        "\n",
        "    while operators:\n",
        "        apply_operator()\n",
        "\n",
        "    return stack[0]\n",
        "\n",
        "def combine_rules(rules):\n",
        "    if len(rules) == 1:\n",
        "        return create_rule(rules[0])\n",
        "\n",
        "    combined_root = None\n",
        "    for rule_string in rules:\n",
        "        rule_ast = create_rule(rule_string)\n",
        "        if combined_root is None:\n",
        "            combined_root = rule_ast\n",
        "        else:\n",
        "            combined_root = Node(node_type=\"operator\", value=\"AND\", left=combined_root, right=rule_ast)\n",
        "\n",
        "    return combined_root\n",
        "\n",
        "def evaluate_rule(ast, data):\n",
        "    if ast.node_type == \"operand\":\n",
        "        # Split operand into key, operator, and value\n",
        "        match = re.split(r\"(<=|>=|!=|==|>|<)\", ast.value)\n",
        "\n",
        "        if len(match) < 3:\n",
        "            # Handle the case where match doesn't have enough elements\n",
        "            print(f\"Error: Invalid operand format in AST: '{ast.value}'\")\n",
        "            return False\n",
        "\n",
        "        key = match[0].strip()  # The attribute, e.g., 'age' or 'department'\n",
        "        operator = match[1].strip()  # The operator, e.g., '>', '==', etc.\n",
        "        value = match[2].strip()  # The value, e.g., '30' or 'Sales'\n",
        "\n",
        "        # Handle numeric or string comparison\n",
        "        if key in data:\n",
        "            data_value = data[key]\n",
        "            if value.startswith(\"'\") and value.endswith(\"'\"):\n",
        "                # It's a string value, remove quotes\n",
        "                value = value[1:-1]\n",
        "            else:\n",
        "                # Convert value to float for numeric comparison\n",
        "                try:\n",
        "                    value = float(value)\n",
        "                except ValueError:\n",
        "                    pass  # In case the value cannot be converted to float\n",
        "\n",
        "            # Perform the comparison\n",
        "            if operator == \">\":\n",
        "                return data_value > value\n",
        "            elif operator == \"<\":\n",
        "                return data_value < value\n",
        "            elif operator == \">=\":\n",
        "                return data_value >= value\n",
        "            elif operator == \"<=\":\n",
        "                return data_value <= value\n",
        "            elif operator == \"==\":\n",
        "                return data_value == value\n",
        "            elif operator == \"!=\":\n",
        "                return data_value != value\n",
        "        else:\n",
        "            print(f\"Warning: '{key}' not found in provided data\")\n",
        "            return False  # If the key isn't found in the data\n",
        "    else:\n",
        "        # Evaluate the left and right subtree recursively\n",
        "        left_val = evaluate_rule(ast.left, data)\n",
        "        right_val = evaluate_rule(ast.right, data)\n",
        "\n",
        "        # Apply the operator (AND/OR)\n",
        "        if ast.value == \"AND\":\n",
        "            return left_val and right_val\n",
        "        elif ast.value == \"OR\":\n",
        "            return left_val or right_val\n",
        "    return False\n",
        "\n",
        "# Define some sample rules\n",
        "rule1 = \"((age > 30 AND department == 'Sales') OR (age < 25 AND department == 'Marketing')) AND (salary > 50000 OR experience > 5)\"\n",
        "rule2 = \"((age > 30 AND department == 'Marketing')) AND (salary > 20000 OR experience > 5)\"\n",
        "\n",
        "# Create individual rules\n",
        "ast_rule1 = create_rule(rule1)\n",
        "ast_rule2 = create_rule(rule2)\n",
        "\n",
        "# Print ASTs\n",
        "print(\"AST for Rule 1:\", ast_rule1)\n",
        "print(\"AST for Rule 2:\", ast_rule2)\n",
        "\n",
        "# Combine the rules\n",
        "combined_ast = combine_rules([rule1, rule2])\n",
        "print(\"Combined AST:\", combined_ast)\n",
        "\n",
        "# Evaluate rules\n",
        "data = {\"age\": 35, \"department\": \"Sales\", \"salary\": 60000, \"experience\": 3}\n",
        "result = evaluate_rule(combined_ast, data)\n",
        "print(\"Evaluation Result for Data 1:\", result)\n",
        "\n",
        "# Try another dataset\n",
        "data2 = {\"age\": 40, \"department\": \"Marketing\", \"salary\": 15000, \"experience\": 10}\n",
        "result2 = evaluate_rule(combined_ast, data2)\n",
        "print(\"Evaluation Result for Data 2:\", result2)\n"
      ],
      "metadata": {
        "colab": {
          "base_uri": "https://localhost:8080/"
        },
        "id": "OLbVFIPpOFfu",
        "outputId": "75a7f494-ee2c-49d5-802d-7964581552d3"
      },
      "execution_count": null,
      "outputs": [
        {
          "output_type": "stream",
          "name": "stdout",
          "text": [
            "AST for Rule 1: age\n",
            "AST for Rule 2: age\n",
            "Combined AST: (age AND age)\n",
            "Error: Invalid operand format in AST: 'age'\n",
            "Error: Invalid operand format in AST: 'age'\n",
            "Evaluation Result for Data 1: False\n",
            "Error: Invalid operand format in AST: 'age'\n",
            "Error: Invalid operand format in AST: 'age'\n",
            "Evaluation Result for Data 2: False\n"
          ]
        }
      ]
    },
    {
      "cell_type": "code",
      "source": [
        "# AST Node class\n",
        "class ASTNode:\n",
        "    def __init__(self, node_type, left=None, right=None, value=None):\n",
        "        self.node_type = node_type  # \"operator\" or \"operand\"\n",
        "        self.left = left  # Left child node\n",
        "        self.right = right  # Right child node\n",
        "        self.value = value  # Operand value (if it's an operand)\n",
        "\n",
        "    def __repr__(self):\n",
        "        if self.node_type == \"operator\":\n",
        "            return f\"({self.left} {self.value} {self.right})\"\n",
        "        else:\n",
        "            return str(self.value)\n"
      ],
      "metadata": {
        "id": "0ls39opPOdE5"
      },
      "execution_count": null,
      "outputs": []
    },
    {
      "cell_type": "code",
      "source": [
        "import re\n",
        "\n",
        "class ASTNode:\n",
        "    def __init__(self, node_type, left=None, right=None, value=None):\n",
        "        self.node_type = node_type  # \"operator\" or \"operand\"\n",
        "        self.left = left  # Left child node\n",
        "        self.right = right  # Right child node\n",
        "        self.value = value  # Operand value (if it's an operand)\n",
        "\n",
        "    def __repr__(self):\n",
        "        if self.node_type == \"operator\":\n",
        "            return f\"({self.left} {self.value} {self.right})\"\n",
        "        else:\n",
        "            return str(self.value)\n",
        "\n",
        "def create_rule(rule_string):\n",
        "    # Tokenize the rule string based on operators, parentheses, and operands\n",
        "    tokens = re.split(r'(\\s+AND\\s+|\\s+OR\\s+|\\(|\\))', rule_string)\n",
        "    tokens = [token.strip() for token in tokens if token.strip()]\n",
        "\n",
        "    # Recursive function to parse the tokenized expression\n",
        "    def parse_expression(tokens):\n",
        "        stack = []\n",
        "        operator_stack = []\n",
        "\n",
        "        while tokens:\n",
        "            token = tokens.pop(0)\n",
        "\n",
        "            if token == '(':\n",
        "                # Parse a subexpression recursively\n",
        "                sub_expr = parse_expression(tokens)\n",
        "                stack.append(sub_expr)\n",
        "            elif token == ')':\n",
        "\n",
        "                break\n",
        "            elif token in ['AND', 'OR']:\n",
        "\n",
        "                operator_stack.append(token)\n",
        "            else:\n",
        "                # Handle operands (conditions like \"age > 30\")\n",
        "                operand = ASTNode(node_type=\"operand\", value=token)\n",
        "                stack.append(operand)\n",
        "            if len(stack) >= 2 and operator_stack:\n",
        "                right = stack.pop()\n",
        "                left = stack.pop()\n",
        "                operator = operator_stack.pop()\n",
        "                node = ASTNode(node_type=\"operator\", left=left, right=right, value=operator)\n",
        "                stack.append(node)\n",
        "\n",
        "        return stack[0] if stack else None\n",
        "\n",
        "    return parse_expression(tokens)\n",
        "\n",
        "# Example usage\n",
        "rule1 = \"((age > 30 AND department = 'Sales') OR (age < 25 AND department = 'Marketing')) AND (salary > 50000 OR experience > 5)\"\n",
        "ast_rule1 = create_rule(rule1)\n",
        "print(f\"AST for rule1: {ast_rule1}\")\n"
      ],
      "metadata": {
        "id": "a_6yINYVQGcD",
        "outputId": "a3a59e34-71ec-4bef-de25-2acb039dfb66",
        "colab": {
          "base_uri": "https://localhost:8080/"
        }
      },
      "execution_count": null,
      "outputs": [
        {
          "output_type": "stream",
          "name": "stdout",
          "text": [
            "AST for rule1: (((age > 30 AND department = 'Sales') OR (age < 25 AND department = 'Marketing')) AND (salary > 50000 OR experience > 5))\n"
          ]
        }
      ]
    },
    {
      "cell_type": "code",
      "source": [
        "def combine_rules(rules, operator=\"AND\"):\n",
        "    if not rules:\n",
        "        return None\n",
        "    combined_ast = rules[0]\n",
        "    for rule in rules[1:]:\n",
        "        combined_ast = ASTNode(node_type=\"operator\", left=combined_ast, right=rule, value=operator)\n",
        "    return combined_ast\n",
        "\n",
        "\n",
        "rule2 = \"((age > 30 AND department = 'Marketing')) AND (salary > 20000 OR experience > 5)\"\n",
        "ast_rule2 = create_rule(rule2)\n",
        "combined_ast = combine_rules([ast_rule1, ast_rule2], operator=\"AND\")\n",
        "print(f\"Combined AST: {combined_ast}\")\n"
      ],
      "metadata": {
        "id": "XoT9m2Q9QKwq",
        "outputId": "13647e37-3bf9-4b15-ffa8-923679cd17d4",
        "colab": {
          "base_uri": "https://localhost:8080/"
        }
      },
      "execution_count": null,
      "outputs": [
        {
          "output_type": "stream",
          "name": "stdout",
          "text": [
            "Combined AST: ((((age > 30 AND department = 'Sales') OR (age < 25 AND department = 'Marketing')) AND (salary > 50000 OR experience > 5)) AND ((age > 30 AND department = 'Marketing') AND (salary > 20000 OR experience > 5)))\n"
          ]
        }
      ]
    },
    {
      "cell_type": "code",
      "source": [
        "def evaluate_node(node, data):\n",
        "    if node.node_type == \"operand\":\n",
        "        # Parse the operand (e.g., \"age > 30\")\n",
        "        if \">\" in node.value:\n",
        "            attr, val = node.value.split(\">\")\n",
        "            return data[attr.strip()] > int(val.strip())\n",
        "        elif \"<\" in node.value:\n",
        "            attr, val = node.value.split(\"<\")\n",
        "            return data[attr.strip()] < int(val.strip())\n",
        "        elif \"=\" in node.value:\n",
        "            attr, val = node.value.split(\"=\")\n",
        "            return data[attr.strip()] == val.strip().strip(\"'\")\n",
        "    elif node.node_type == \"operator\":\n",
        "        if node.value == \"AND\":\n",
        "            return evaluate_node(node.left, data) and evaluate_node(node.right, data)\n",
        "        elif node.value == \"OR\":\n",
        "            return evaluate_node(node.left, data) or evaluate_node(node.right, data)\n",
        "    return False\n",
        "\n",
        "def evaluate_rule(ast, data):\n",
        "    return evaluate_node(ast, data)\n",
        "\n",
        "# Example usage\n",
        "data = {\"age\": 35, \"department\": \"Sales\", \"salary\": 60000, \"experience\": 3}\n",
        "result = evaluate_rule(combined_ast, data)\n",
        "print(f\"Evaluation result: {result}\")\n"
      ],
      "metadata": {
        "id": "rQHsXC6-RKev",
        "outputId": "f07f41ef-bea9-4ffb-d05f-88293fc8caa4",
        "colab": {
          "base_uri": "https://localhost:8080/"
        }
      },
      "execution_count": null,
      "outputs": [
        {
          "output_type": "stream",
          "name": "stdout",
          "text": [
            "Evaluation result: False\n"
          ]
        }
      ]
    },
    {
      "cell_type": "code",
      "source": [
        "rule1_ast = create_rule(\"age > 30 AND department = 'Sales'\")\n",
        "data1 = {\"age\": 35, \"department\": \"Sales\", \"salary\": 60000, \"experience\": 3}\n",
        "print(evaluate_rule(rule1_ast, data1))  # Should return True\n",
        "\n",
        "combined_rule_ast = combine_rules([rule1_ast, create_rule(\"salary > 50000 OR experience > 5\")], operator=\"AND\")\n",
        "print(evaluate_rule(combined_rule_ast, data1))  # Should return True\n"
      ],
      "metadata": {
        "id": "N5EXqYbaRO_E",
        "outputId": "6a0b19d0-fe01-427a-e9d3-818554fb8eeb",
        "colab": {
          "base_uri": "https://localhost:8080/"
        }
      },
      "execution_count": null,
      "outputs": [
        {
          "output_type": "stream",
          "name": "stdout",
          "text": [
            "True\n",
            "True\n"
          ]
        }
      ]
    },
    {
      "cell_type": "code",
      "source": [],
      "metadata": {
        "id": "Zfbe0vUzRS_o"
      },
      "execution_count": null,
      "outputs": []
    }
  ]
}